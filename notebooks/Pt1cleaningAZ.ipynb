{
 "cells": [
  {
   "cell_type": "code",
   "execution_count": 29,
   "metadata": {},
   "outputs": [],
   "source": [
    "import pandas as pd\n",
    "import requests\n",
    "from io import StringIO\n",
    "import re\n",
    "import datetime\n"
   ]
  },
  {
   "cell_type": "code",
   "execution_count": 57,
   "metadata": {},
   "outputs": [],
   "source": [
    "pd.set_option('display.max_rows', 1000)\n"
   ]
  },
  {
   "cell_type": "code",
   "execution_count": 2,
   "metadata": {},
   "outputs": [
    {
     "name": "stderr",
     "output_type": "stream",
     "text": [
      "C:\\Users\\zylst\\anaconda3\\lib\\site-packages\\IPython\\core\\interactiveshell.py:3071: DtypeWarning: Columns (17) have mixed types.Specify dtype option on import or set low_memory=False.\n",
      "  has_raised = await self.run_ast_nodes(code_ast.body, cell_name,\n"
     ]
    }
   ],
   "source": [
    "violations = pd.read_csv('../data/hubNashville__311__Service_Requests.csv')"
   ]
  },
  {
   "cell_type": "markdown",
   "metadata": {},
   "source": [
    "#Set API url\n",
    "url = 'https://data.nashville.gov/resource/7qhx-rexh.csv'\n",
    "\n",
    "#create request object\n",
    "r = requests.get(url)\n",
    "\n",
    "#convert to csv\n",
    "covid_violations = pd.read_csv(StringIO(r.text))\n",
    "\n",
    "covid_violations.info()"
   ]
  },
  {
   "cell_type": "code",
   "execution_count": 3,
   "metadata": {},
   "outputs": [
    {
     "name": "stdout",
     "output_type": "stream",
     "text": [
      "<class 'pandas.core.frame.DataFrame'>\n",
      "RangeIndex: 479306 entries, 0 to 479305\n",
      "Data columns (total 21 columns):\n",
      " #   Column                      Non-Null Count   Dtype  \n",
      "---  ------                      --------------   -----  \n",
      " 0   Request #                   479306 non-null  int64  \n",
      " 1   Status                      479306 non-null  object \n",
      " 2   Request Type                478975 non-null  object \n",
      " 3   Subrequest Type             475816 non-null  object \n",
      " 4   Additional Subrequest Type  475665 non-null  object \n",
      " 5   Date / Time Opened          479306 non-null  object \n",
      " 6   Date / Time Closed          467913 non-null  object \n",
      " 7   Request Origin              479306 non-null  object \n",
      " 8   System of Origin ID         29204 non-null   object \n",
      " 9   Contact Type                27446 non-null   object \n",
      " 10  Preferred Language          0 non-null       float64\n",
      " 11  State Issue                 479306 non-null  bool   \n",
      " 12  Parent Request              5122 non-null    float64\n",
      " 13  Closed When Created         479306 non-null  bool   \n",
      " 14  Address                     372094 non-null  object \n",
      " 15  City                        366461 non-null  object \n",
      " 16  Council District            366297 non-null  float64\n",
      " 17  ZIP                         366319 non-null  object \n",
      " 18  Latitude                    371347 non-null  float64\n",
      " 19  Longitude                   371347 non-null  float64\n",
      " 20  Mapped Location             371347 non-null  object \n",
      "dtypes: bool(2), float64(5), int64(1), object(13)\n",
      "memory usage: 70.4+ MB\n"
     ]
    }
   ],
   "source": [
    "violations.info()"
   ]
  },
  {
   "cell_type": "code",
   "execution_count": 4,
   "metadata": {},
   "outputs": [
    {
     "data": {
      "text/plain": [
       "array(['Trash, Recycling & Litter', 'Property Violations',\n",
       "       'Streets, Roads & Sidewalks', 'Other', 'Transit',\n",
       "       'Resolved by hubNashville on First Call',\n",
       "       'Electric & Water General', 'Public Safety', 'Permits',\n",
       "       'Police Chief Search', 'Parks', 'Planning & Zoning',\n",
       "       'Social Services & Housing', 'COVID-19', 'Hands On Volunteers',\n",
       "       'Storm Relief', 'Public Records Request', 'Quick Requests',\n",
       "       'Workforce & Jobs', 'Education & Libraries',\n",
       "       'Admin Support Request', nan, 'WIRES',\n",
       "       'Submit Budget Ideas to Mayor Briley',\n",
       "       'Consumer Protection Request', 'BRUSH'], dtype=object)"
      ]
     },
     "execution_count": 4,
     "metadata": {},
     "output_type": "execute_result"
    }
   ],
   "source": [
    "violations['Request Type'].unique()"
   ]
  },
  {
   "cell_type": "code",
   "execution_count": 5,
   "metadata": {
    "scrolled": true
   },
   "outputs": [
    {
     "data": {
      "text/plain": [
       "array(['COVID-19 Violations', 'COVID-19 Questions',\n",
       "       'COVID-19 Guidance for Reopening Businesses',\n",
       "       'COVID-19 - Submit Input about The Plan to Reopen Nashville', nan],\n",
       "      dtype=object)"
      ]
     },
     "execution_count": 5,
     "metadata": {},
     "output_type": "execute_result"
    }
   ],
   "source": [
    "covid_only = violations[violations['Request Type']== 'COVID-19']\n",
    "covid_only['Subrequest Type'].unique()"
   ]
  },
  {
   "cell_type": "code",
   "execution_count": 6,
   "metadata": {},
   "outputs": [],
   "source": [
    "covid_only = covid_only[covid_only['Subrequest Type']== 'COVID-19 Violations']"
   ]
  },
  {
   "cell_type": "code",
   "execution_count": 7,
   "metadata": {},
   "outputs": [
    {
     "data": {
      "text/plain": [
       "210 Anne Dallas Dudley Blvd    287\n",
       "21B Fern Ave                   117\n",
       "5106 Old Hickory Blvd           51\n",
       "333 Commerce St                 51\n",
       "221 Broadway                    47\n",
       "                              ... \n",
       "116 21st Ave N                   1\n",
       "149 Barker Rd                    1\n",
       "320 Long Hollow Pike             1\n",
       "900 Heritage Way                 1\n",
       "1116 Dickerson Pike              1\n",
       "Name: Address, Length: 4829, dtype: int64"
      ]
     },
     "execution_count": 7,
     "metadata": {},
     "output_type": "execute_result"
    }
   ],
   "source": [
    "covid_only['Address'].value_counts()"
   ]
  },
  {
   "cell_type": "code",
   "execution_count": 8,
   "metadata": {
    "scrolled": false
   },
   "outputs": [
    {
     "name": "stdout",
     "output_type": "stream",
     "text": [
      "<class 'pandas.core.frame.DataFrame'>\n",
      "Int64Index: 11632 entries, 1547 to 479249\n",
      "Data columns (total 21 columns):\n",
      " #   Column                      Non-Null Count  Dtype  \n",
      "---  ------                      --------------  -----  \n",
      " 0   Request #                   11632 non-null  int64  \n",
      " 1   Status                      11632 non-null  object \n",
      " 2   Request Type                11632 non-null  object \n",
      " 3   Subrequest Type             11632 non-null  object \n",
      " 4   Additional Subrequest Type  11623 non-null  object \n",
      " 5   Date / Time Opened          11632 non-null  object \n",
      " 6   Date / Time Closed          11611 non-null  object \n",
      " 7   Request Origin              11632 non-null  object \n",
      " 8   System of Origin ID         0 non-null      object \n",
      " 9   Contact Type                46 non-null     object \n",
      " 10  Preferred Language          0 non-null      float64\n",
      " 11  State Issue                 11632 non-null  bool   \n",
      " 12  Parent Request              1 non-null      float64\n",
      " 13  Closed When Created         11632 non-null  bool   \n",
      " 14  Address                     11258 non-null  object \n",
      " 15  City                        10653 non-null  object \n",
      " 16  Council District            10686 non-null  float64\n",
      " 17  ZIP                         10718 non-null  object \n",
      " 18  Latitude                    11354 non-null  float64\n",
      " 19  Longitude                   11354 non-null  float64\n",
      " 20  Mapped Location             11354 non-null  object \n",
      "dtypes: bool(2), float64(5), int64(1), object(13)\n",
      "memory usage: 1.8+ MB\n"
     ]
    }
   ],
   "source": [
    "covid_only.info()"
   ]
  },
  {
   "cell_type": "code",
   "execution_count": 9,
   "metadata": {
    "scrolled": true
   },
   "outputs": [
    {
     "data": {
      "text/plain": [
       "210 Anne Dallas Dudley Blvd    287\n",
       "21B Fern Ave                   117\n",
       "5106 Old Hickory Blvd           51\n",
       "333 Commerce St                 51\n",
       "221 Broadway                    47\n",
       "                              ... \n",
       "116 21st Ave N                   1\n",
       "149 Barker Rd                    1\n",
       "320 Long Hollow Pike             1\n",
       "900 Heritage Way                 1\n",
       "1116 Dickerson Pike              1\n",
       "Name: Address, Length: 4829, dtype: int64"
      ]
     },
     "execution_count": 9,
     "metadata": {},
     "output_type": "execute_result"
    }
   ],
   "source": [
    "covid_only['Address'].value_counts()"
   ]
  },
  {
   "cell_type": "code",
   "execution_count": 10,
   "metadata": {},
   "outputs": [],
   "source": [
    "covid_only = covid_only.drop(columns=['System of Origin ID','Contact Type','Preferred Language','Parent Request']).reset_index()"
   ]
  },
  {
   "cell_type": "code",
   "execution_count": 11,
   "metadata": {},
   "outputs": [
    {
     "data": {
      "text/plain": [
       "(11632, 18)"
      ]
     },
     "execution_count": 11,
     "metadata": {},
     "output_type": "execute_result"
    }
   ],
   "source": [
    "covid_only.shape"
   ]
  },
  {
   "cell_type": "code",
   "execution_count": 12,
   "metadata": {},
   "outputs": [
    {
     "data": {
      "text/plain": [
       "NASHVILLE         8627\n",
       "MADISON            582\n",
       "ANTIOCH            470\n",
       "HERMITAGE          431\n",
       "GOODLETTSVILLE     207\n",
       "OLD HICKORY        200\n",
       "BRENTWOOD           50\n",
       "JOELTON             43\n",
       "WHITES CREEK        27\n",
       "LAVERGNE             9\n",
       "NOLENSVILLE          5\n",
       "Nashville            1\n",
       "LA VERGNE            1\n",
       "Name: City, dtype: int64"
      ]
     },
     "execution_count": 12,
     "metadata": {},
     "output_type": "execute_result"
    }
   ],
   "source": [
    "covid_only['City'].value_counts()"
   ]
  },
  {
   "cell_type": "code",
   "execution_count": 13,
   "metadata": {},
   "outputs": [
    {
     "data": {
      "text/html": [
       "<div>\n",
       "<style scoped>\n",
       "    .dataframe tbody tr th:only-of-type {\n",
       "        vertical-align: middle;\n",
       "    }\n",
       "\n",
       "    .dataframe tbody tr th {\n",
       "        vertical-align: top;\n",
       "    }\n",
       "\n",
       "    .dataframe thead th {\n",
       "        text-align: right;\n",
       "    }\n",
       "</style>\n",
       "<table border=\"1\" class=\"dataframe\">\n",
       "  <thead>\n",
       "    <tr style=\"text-align: right;\">\n",
       "      <th></th>\n",
       "      <th>index</th>\n",
       "      <th>Request #</th>\n",
       "      <th>Status</th>\n",
       "      <th>Request Type</th>\n",
       "      <th>Subrequest Type</th>\n",
       "      <th>Additional Subrequest Type</th>\n",
       "      <th>Date / Time Opened</th>\n",
       "      <th>Date / Time Closed</th>\n",
       "      <th>Request Origin</th>\n",
       "      <th>State Issue</th>\n",
       "      <th>Closed When Created</th>\n",
       "      <th>Address</th>\n",
       "      <th>City</th>\n",
       "      <th>Council District</th>\n",
       "      <th>ZIP</th>\n",
       "      <th>Latitude</th>\n",
       "      <th>Longitude</th>\n",
       "      <th>Mapped Location</th>\n",
       "    </tr>\n",
       "  </thead>\n",
       "  <tbody>\n",
       "    <tr>\n",
       "      <th>13</th>\n",
       "      <td>22299</td>\n",
       "      <td>361889</td>\n",
       "      <td>Closed</td>\n",
       "      <td>COVID-19</td>\n",
       "      <td>COVID-19 Violations</td>\n",
       "      <td>COVID-19 Violations</td>\n",
       "      <td>05/07/2020 06:57:32 PM</td>\n",
       "      <td>05/08/2020 05:08:50 PM</td>\n",
       "      <td>Phone</td>\n",
       "      <td>False</td>\n",
       "      <td>False</td>\n",
       "      <td>1297 Antioch Pike</td>\n",
       "      <td>Nashville</td>\n",
       "      <td>NaN</td>\n",
       "      <td>37211</td>\n",
       "      <td>NaN</td>\n",
       "      <td>NaN</td>\n",
       "      <td>NaN</td>\n",
       "    </tr>\n",
       "  </tbody>\n",
       "</table>\n",
       "</div>"
      ],
      "text/plain": [
       "    index  Request #  Status Request Type      Subrequest Type  \\\n",
       "13  22299     361889  Closed     COVID-19  COVID-19 Violations   \n",
       "\n",
       "   Additional Subrequest Type      Date / Time Opened      Date / Time Closed  \\\n",
       "13        COVID-19 Violations  05/07/2020 06:57:32 PM  05/08/2020 05:08:50 PM   \n",
       "\n",
       "   Request Origin  State Issue  Closed When Created            Address  \\\n",
       "13          Phone        False                False  1297 Antioch Pike   \n",
       "\n",
       "         City  Council District    ZIP  Latitude  Longitude Mapped Location  \n",
       "13  Nashville               NaN  37211       NaN        NaN             NaN  "
      ]
     },
     "execution_count": 13,
     "metadata": {},
     "output_type": "execute_result"
    }
   ],
   "source": [
    "covid_only[covid_only['City'] == 'Nashville']"
   ]
  },
  {
   "cell_type": "code",
   "execution_count": 14,
   "metadata": {},
   "outputs": [
    {
     "name": "stdout",
     "output_type": "stream",
     "text": [
      "<class 'pandas.core.frame.DataFrame'>\n",
      "RangeIndex: 11632 entries, 0 to 11631\n",
      "Data columns (total 18 columns):\n",
      " #   Column                      Non-Null Count  Dtype  \n",
      "---  ------                      --------------  -----  \n",
      " 0   index                       11632 non-null  int64  \n",
      " 1   Request #                   11632 non-null  int64  \n",
      " 2   Status                      11632 non-null  object \n",
      " 3   Request Type                11632 non-null  object \n",
      " 4   Subrequest Type             11632 non-null  object \n",
      " 5   Additional Subrequest Type  11623 non-null  object \n",
      " 6   Date / Time Opened          11632 non-null  object \n",
      " 7   Date / Time Closed          11611 non-null  object \n",
      " 8   Request Origin              11632 non-null  object \n",
      " 9   State Issue                 11632 non-null  bool   \n",
      " 10  Closed When Created         11632 non-null  bool   \n",
      " 11  Address                     11258 non-null  object \n",
      " 12  City                        10653 non-null  object \n",
      " 13  Council District            10686 non-null  float64\n",
      " 14  ZIP                         10718 non-null  object \n",
      " 15  Latitude                    11354 non-null  float64\n",
      " 16  Longitude                   11354 non-null  float64\n",
      " 17  Mapped Location             11354 non-null  object \n",
      "dtypes: bool(2), float64(3), int64(2), object(11)\n",
      "memory usage: 1.4+ MB\n"
     ]
    }
   ],
   "source": [
    "covid_only.info()"
   ]
  },
  {
   "cell_type": "code",
   "execution_count": 15,
   "metadata": {},
   "outputs": [],
   "source": [
    "covid_only.iloc[13,12] = covid_only.iloc[13,12].upper()"
   ]
  },
  {
   "cell_type": "code",
   "execution_count": 16,
   "metadata": {},
   "outputs": [
    {
     "data": {
      "text/plain": [
       "NASHVILLE         8628\n",
       "MADISON            582\n",
       "ANTIOCH            470\n",
       "HERMITAGE          431\n",
       "GOODLETTSVILLE     207\n",
       "OLD HICKORY        200\n",
       "BRENTWOOD           50\n",
       "JOELTON             43\n",
       "WHITES CREEK        27\n",
       "LAVERGNE             9\n",
       "NOLENSVILLE          5\n",
       "LA VERGNE            1\n",
       "Name: City, dtype: int64"
      ]
     },
     "execution_count": 16,
     "metadata": {},
     "output_type": "execute_result"
    }
   ],
   "source": [
    "covid_only['City'].value_counts()"
   ]
  },
  {
   "cell_type": "code",
   "execution_count": 17,
   "metadata": {},
   "outputs": [
    {
     "data": {
      "text/html": [
       "<div>\n",
       "<style scoped>\n",
       "    .dataframe tbody tr th:only-of-type {\n",
       "        vertical-align: middle;\n",
       "    }\n",
       "\n",
       "    .dataframe tbody tr th {\n",
       "        vertical-align: top;\n",
       "    }\n",
       "\n",
       "    .dataframe thead th {\n",
       "        text-align: right;\n",
       "    }\n",
       "</style>\n",
       "<table border=\"1\" class=\"dataframe\">\n",
       "  <thead>\n",
       "    <tr style=\"text-align: right;\">\n",
       "      <th></th>\n",
       "      <th>index</th>\n",
       "      <th>Request #</th>\n",
       "      <th>Status</th>\n",
       "      <th>Request Type</th>\n",
       "      <th>Subrequest Type</th>\n",
       "      <th>Additional Subrequest Type</th>\n",
       "      <th>Date / Time Opened</th>\n",
       "      <th>Date / Time Closed</th>\n",
       "      <th>Request Origin</th>\n",
       "      <th>State Issue</th>\n",
       "      <th>Closed When Created</th>\n",
       "      <th>Address</th>\n",
       "      <th>City</th>\n",
       "      <th>Council District</th>\n",
       "      <th>ZIP</th>\n",
       "      <th>Latitude</th>\n",
       "      <th>Longitude</th>\n",
       "      <th>Mapped Location</th>\n",
       "    </tr>\n",
       "  </thead>\n",
       "  <tbody>\n",
       "    <tr>\n",
       "      <th>9518</th>\n",
       "      <td>401452</td>\n",
       "      <td>442297</td>\n",
       "      <td>Closed</td>\n",
       "      <td>COVID-19</td>\n",
       "      <td>COVID-19 Violations</td>\n",
       "      <td>COVID-19 Violations</td>\n",
       "      <td>08/11/2020 02:50:02 PM</td>\n",
       "      <td>08/12/2020 03:47:37 PM</td>\n",
       "      <td>Phone</td>\n",
       "      <td>False</td>\n",
       "      <td>False</td>\n",
       "      <td>Firestone Pkwy &amp; Old Hickory Blvd</td>\n",
       "      <td>LA VERGNE</td>\n",
       "      <td>33.0</td>\n",
       "      <td>37086</td>\n",
       "      <td>36.01689</td>\n",
       "      <td>-86.61985</td>\n",
       "      <td>(36.01689, -86.61985)</td>\n",
       "    </tr>\n",
       "  </tbody>\n",
       "</table>\n",
       "</div>"
      ],
      "text/plain": [
       "       index  Request #  Status Request Type      Subrequest Type  \\\n",
       "9518  401452     442297  Closed     COVID-19  COVID-19 Violations   \n",
       "\n",
       "     Additional Subrequest Type      Date / Time Opened  \\\n",
       "9518        COVID-19 Violations  08/11/2020 02:50:02 PM   \n",
       "\n",
       "          Date / Time Closed Request Origin  State Issue  Closed When Created  \\\n",
       "9518  08/12/2020 03:47:37 PM          Phone        False                False   \n",
       "\n",
       "                                Address       City  Council District    ZIP  \\\n",
       "9518  Firestone Pkwy & Old Hickory Blvd  LA VERGNE              33.0  37086   \n",
       "\n",
       "      Latitude  Longitude        Mapped Location  \n",
       "9518  36.01689  -86.61985  (36.01689, -86.61985)  "
      ]
     },
     "execution_count": 17,
     "metadata": {},
     "output_type": "execute_result"
    }
   ],
   "source": [
    "covid_only[covid_only['City']=='LA VERGNE']"
   ]
  },
  {
   "cell_type": "code",
   "execution_count": 18,
   "metadata": {},
   "outputs": [],
   "source": [
    "covid_only.iloc[9518,12] = 'LAVERGNE'"
   ]
  },
  {
   "cell_type": "code",
   "execution_count": 19,
   "metadata": {},
   "outputs": [
    {
     "data": {
      "text/plain": [
       "37203.0    814\n",
       "37211.0    643\n",
       "37209.0    519\n",
       "37207.0    485\n",
       "37115.0    456\n",
       "          ... \n",
       "37129.0      1\n",
       "37130.0      1\n",
       "38401.0      1\n",
       "38506.0      1\n",
       "37040.0      1\n",
       "Name: ZIP, Length: 85, dtype: int64"
      ]
     },
     "execution_count": 19,
     "metadata": {},
     "output_type": "execute_result"
    }
   ],
   "source": [
    "covid_only['ZIP'].value_counts()"
   ]
  },
  {
   "cell_type": "code",
   "execution_count": 21,
   "metadata": {},
   "outputs": [],
   "source": [
    "covid_only['ZIP'] = covid_only['ZIP'].fillna(0).apply(str)"
   ]
  },
  {
   "cell_type": "code",
   "execution_count": 22,
   "metadata": {},
   "outputs": [
    {
     "data": {
      "text/plain": [
       "array(['37013.0', '37214.0', '37204.0', '37218.0', '37203.0', '37206.0',\n",
       "       '37207.0', '37209.0', '37211.0', '37115.0', '0', '37216.0',\n",
       "       '37076.0', '37212.0', '37210.0', '37219.0', '37205.0', '37201.0',\n",
       "       '37072.0', '37215.0', '37220.0', '37221.0', '37217.0', '37027.0',\n",
       "       '37232.0', '37080.0', '37208.0', '37138.0', '37228.0', '37240.0',\n",
       "       '37064.0', '37130.0', '37075.0', '37086.0', '38506.0', '37122.0',\n",
       "       '37160.0', '37073.0', '37246.0', '37129.0', '37067.0', '37363.0',\n",
       "       '37172.0', '38401.0', '37189.0', '37213.0', '37090.0', '37663.0',\n",
       "       '37087.0', '37040.0', '37066.0', '37036.0', '37135.0', '37201',\n",
       "       '37203', '37209', '37027', '37214', '37207', '37221', '37080',\n",
       "       '37211', '37219', '37206', '37138', '37076', '37115', '37204',\n",
       "       '37217', '37218', '37213', '37215', '37208', '37212', '37216',\n",
       "       '37205', '37013', '37228', '37210', '37072', '37086', '37232',\n",
       "       '37220', '37189', '37135', '37240'], dtype=object)"
      ]
     },
     "execution_count": 22,
     "metadata": {},
     "output_type": "execute_result"
    }
   ],
   "source": [
    "covid_only['ZIP'].unique()"
   ]
  },
  {
   "cell_type": "code",
   "execution_count": 23,
   "metadata": {},
   "outputs": [],
   "source": [
    "covid_only['ZIP'] = covid_only['ZIP'].str.replace('(\\.\\d)','')"
   ]
  },
  {
   "cell_type": "code",
   "execution_count": 24,
   "metadata": {},
   "outputs": [
    {
     "data": {
      "text/html": [
       "<div>\n",
       "<style scoped>\n",
       "    .dataframe tbody tr th:only-of-type {\n",
       "        vertical-align: middle;\n",
       "    }\n",
       "\n",
       "    .dataframe tbody tr th {\n",
       "        vertical-align: top;\n",
       "    }\n",
       "\n",
       "    .dataframe thead th {\n",
       "        text-align: right;\n",
       "    }\n",
       "</style>\n",
       "<table border=\"1\" class=\"dataframe\">\n",
       "  <thead>\n",
       "    <tr style=\"text-align: right;\">\n",
       "      <th></th>\n",
       "      <th>index</th>\n",
       "      <th>Request #</th>\n",
       "      <th>Status</th>\n",
       "      <th>Request Type</th>\n",
       "      <th>Subrequest Type</th>\n",
       "      <th>Additional Subrequest Type</th>\n",
       "      <th>Date / Time Opened</th>\n",
       "      <th>Date / Time Closed</th>\n",
       "      <th>Request Origin</th>\n",
       "      <th>State Issue</th>\n",
       "      <th>Closed When Created</th>\n",
       "      <th>Address</th>\n",
       "      <th>City</th>\n",
       "      <th>Council District</th>\n",
       "      <th>ZIP</th>\n",
       "      <th>Latitude</th>\n",
       "      <th>Longitude</th>\n",
       "      <th>Mapped Location</th>\n",
       "    </tr>\n",
       "  </thead>\n",
       "  <tbody>\n",
       "    <tr>\n",
       "      <th>16</th>\n",
       "      <td>23181</td>\n",
       "      <td>362249</td>\n",
       "      <td>Closed</td>\n",
       "      <td>COVID-19</td>\n",
       "      <td>COVID-19 Violations</td>\n",
       "      <td>COVID-19 Violations</td>\n",
       "      <td>05/07/2020 10:31:04 PM</td>\n",
       "      <td>05/11/2020 02:57:54 PM</td>\n",
       "      <td>hubNashville Community</td>\n",
       "      <td>False</td>\n",
       "      <td>False</td>\n",
       "      <td>NaN</td>\n",
       "      <td>NaN</td>\n",
       "      <td>NaN</td>\n",
       "      <td>0</td>\n",
       "      <td>NaN</td>\n",
       "      <td>NaN</td>\n",
       "      <td>NaN</td>\n",
       "    </tr>\n",
       "    <tr>\n",
       "      <th>31</th>\n",
       "      <td>35402</td>\n",
       "      <td>426840</td>\n",
       "      <td>Closed</td>\n",
       "      <td>COVID-19</td>\n",
       "      <td>COVID-19 Violations</td>\n",
       "      <td>COVID-19 Violations</td>\n",
       "      <td>07/26/2020 02:26:28 AM</td>\n",
       "      <td>07/30/2020 03:35:55 PM</td>\n",
       "      <td>hubNashville Community</td>\n",
       "      <td>False</td>\n",
       "      <td>False</td>\n",
       "      <td>NaN</td>\n",
       "      <td>NaN</td>\n",
       "      <td>NaN</td>\n",
       "      <td>0</td>\n",
       "      <td>NaN</td>\n",
       "      <td>NaN</td>\n",
       "      <td>NaN</td>\n",
       "    </tr>\n",
       "    <tr>\n",
       "      <th>67</th>\n",
       "      <td>46641</td>\n",
       "      <td>426586</td>\n",
       "      <td>Closed</td>\n",
       "      <td>COVID-19</td>\n",
       "      <td>COVID-19 Violations</td>\n",
       "      <td>COVID-19 Violations</td>\n",
       "      <td>07/25/2020 04:25:26 PM</td>\n",
       "      <td>07/27/2020 04:59:17 PM</td>\n",
       "      <td>hubNashville Community</td>\n",
       "      <td>False</td>\n",
       "      <td>False</td>\n",
       "      <td>625 Sgt. Paul Huff Parkway Northwest</td>\n",
       "      <td>NaN</td>\n",
       "      <td>NaN</td>\n",
       "      <td>0</td>\n",
       "      <td>35.210383</td>\n",
       "      <td>-84.859861</td>\n",
       "      <td>(35.21038347906778, -84.85986115231826)</td>\n",
       "    </tr>\n",
       "    <tr>\n",
       "      <th>124</th>\n",
       "      <td>83511</td>\n",
       "      <td>440804</td>\n",
       "      <td>Closed</td>\n",
       "      <td>COVID-19</td>\n",
       "      <td>COVID-19 Violations</td>\n",
       "      <td>COVID-19 Violations</td>\n",
       "      <td>08/08/2020 12:19:06 PM</td>\n",
       "      <td>08/10/2020 04:22:25 PM</td>\n",
       "      <td>hubNashville Community</td>\n",
       "      <td>False</td>\n",
       "      <td>False</td>\n",
       "      <td>7630 Hwy 70 S</td>\n",
       "      <td>NaN</td>\n",
       "      <td>NaN</td>\n",
       "      <td>0</td>\n",
       "      <td>36.080078</td>\n",
       "      <td>-86.949125</td>\n",
       "      <td>(36.08007791157165, -86.9491254932541)</td>\n",
       "    </tr>\n",
       "    <tr>\n",
       "      <th>125</th>\n",
       "      <td>83553</td>\n",
       "      <td>440857</td>\n",
       "      <td>Closed</td>\n",
       "      <td>COVID-19</td>\n",
       "      <td>COVID-19 Violations</td>\n",
       "      <td>COVID-19 Violations</td>\n",
       "      <td>08/08/2020 04:19:52 PM</td>\n",
       "      <td>08/10/2020 03:01:55 PM</td>\n",
       "      <td>hubNashville Community</td>\n",
       "      <td>False</td>\n",
       "      <td>False</td>\n",
       "      <td>7115 Bakers Bridge Ave</td>\n",
       "      <td>NaN</td>\n",
       "      <td>NaN</td>\n",
       "      <td>0</td>\n",
       "      <td>35.962645</td>\n",
       "      <td>-86.818637</td>\n",
       "      <td>(35.96264471152191, -86.81863690674592)</td>\n",
       "    </tr>\n",
       "    <tr>\n",
       "      <th>...</th>\n",
       "      <td>...</td>\n",
       "      <td>...</td>\n",
       "      <td>...</td>\n",
       "      <td>...</td>\n",
       "      <td>...</td>\n",
       "      <td>...</td>\n",
       "      <td>...</td>\n",
       "      <td>...</td>\n",
       "      <td>...</td>\n",
       "      <td>...</td>\n",
       "      <td>...</td>\n",
       "      <td>...</td>\n",
       "      <td>...</td>\n",
       "      <td>...</td>\n",
       "      <td>...</td>\n",
       "      <td>...</td>\n",
       "      <td>...</td>\n",
       "      <td>...</td>\n",
       "    </tr>\n",
       "    <tr>\n",
       "      <th>11548</th>\n",
       "      <td>476572</td>\n",
       "      <td>491272</td>\n",
       "      <td>Closed</td>\n",
       "      <td>COVID-19</td>\n",
       "      <td>COVID-19 Violations</td>\n",
       "      <td>COVID-19 Violations</td>\n",
       "      <td>10/29/2020 05:01:43 PM</td>\n",
       "      <td>10/30/2020 02:00:14 PM</td>\n",
       "      <td>hubNashville Community</td>\n",
       "      <td>False</td>\n",
       "      <td>False</td>\n",
       "      <td>NaN</td>\n",
       "      <td>NaN</td>\n",
       "      <td>NaN</td>\n",
       "      <td>0</td>\n",
       "      <td>NaN</td>\n",
       "      <td>NaN</td>\n",
       "      <td>NaN</td>\n",
       "    </tr>\n",
       "    <tr>\n",
       "      <th>11549</th>\n",
       "      <td>476592</td>\n",
       "      <td>491109</td>\n",
       "      <td>Closed</td>\n",
       "      <td>COVID-19</td>\n",
       "      <td>COVID-19 Violations</td>\n",
       "      <td>COVID-19 Violations</td>\n",
       "      <td>10/29/2020 03:29:07 PM</td>\n",
       "      <td>10/30/2020 02:00:27 PM</td>\n",
       "      <td>hubNashville Community</td>\n",
       "      <td>False</td>\n",
       "      <td>False</td>\n",
       "      <td>3381 Southall Rd</td>\n",
       "      <td>NaN</td>\n",
       "      <td>NaN</td>\n",
       "      <td>0</td>\n",
       "      <td>35.896428</td>\n",
       "      <td>-86.978482</td>\n",
       "      <td>(35.89642800000001, -86.97848189999999)</td>\n",
       "    </tr>\n",
       "    <tr>\n",
       "      <th>11550</th>\n",
       "      <td>476613</td>\n",
       "      <td>491592</td>\n",
       "      <td>Closed</td>\n",
       "      <td>COVID-19</td>\n",
       "      <td>COVID-19 Violations</td>\n",
       "      <td>COVID-19 Violations</td>\n",
       "      <td>10/29/2020 08:43:16 PM</td>\n",
       "      <td>10/30/2020 01:59:23 PM</td>\n",
       "      <td>hubNashville Community</td>\n",
       "      <td>False</td>\n",
       "      <td>False</td>\n",
       "      <td>845 Springfield Hwy</td>\n",
       "      <td>NaN</td>\n",
       "      <td>NaN</td>\n",
       "      <td>0</td>\n",
       "      <td>36.344605</td>\n",
       "      <td>-86.719257</td>\n",
       "      <td>(36.3446046, -86.71925739999999)</td>\n",
       "    </tr>\n",
       "    <tr>\n",
       "      <th>11557</th>\n",
       "      <td>477232</td>\n",
       "      <td>487802</td>\n",
       "      <td>Closed</td>\n",
       "      <td>COVID-19</td>\n",
       "      <td>COVID-19 Violations</td>\n",
       "      <td>COVID-19 Violations</td>\n",
       "      <td>10/24/2020 07:30:43 PM</td>\n",
       "      <td>10/26/2020 02:01:07 PM</td>\n",
       "      <td>hubNashville Community</td>\n",
       "      <td>False</td>\n",
       "      <td>False</td>\n",
       "      <td>6000 Hwy 41a</td>\n",
       "      <td>NaN</td>\n",
       "      <td>NaN</td>\n",
       "      <td>0</td>\n",
       "      <td>36.369854</td>\n",
       "      <td>-86.984785</td>\n",
       "      <td>(36.36985411169506, -86.98478530000001)</td>\n",
       "    </tr>\n",
       "    <tr>\n",
       "      <th>11584</th>\n",
       "      <td>477871</td>\n",
       "      <td>491439</td>\n",
       "      <td>Closed</td>\n",
       "      <td>COVID-19</td>\n",
       "      <td>COVID-19 Violations</td>\n",
       "      <td>COVID-19 Violations</td>\n",
       "      <td>10/29/2020 06:43:32 PM</td>\n",
       "      <td>10/30/2020 01:59:36 PM</td>\n",
       "      <td>hubNashville Community</td>\n",
       "      <td>False</td>\n",
       "      <td>False</td>\n",
       "      <td>3078 Maddux Way</td>\n",
       "      <td>NaN</td>\n",
       "      <td>NaN</td>\n",
       "      <td>0</td>\n",
       "      <td>35.970954</td>\n",
       "      <td>-86.835905</td>\n",
       "      <td>(35.97095401152542, -86.83590499999998)</td>\n",
       "    </tr>\n",
       "  </tbody>\n",
       "</table>\n",
       "<p>914 rows × 18 columns</p>\n",
       "</div>"
      ],
      "text/plain": [
       "        index  Request #  Status Request Type      Subrequest Type  \\\n",
       "16      23181     362249  Closed     COVID-19  COVID-19 Violations   \n",
       "31      35402     426840  Closed     COVID-19  COVID-19 Violations   \n",
       "67      46641     426586  Closed     COVID-19  COVID-19 Violations   \n",
       "124     83511     440804  Closed     COVID-19  COVID-19 Violations   \n",
       "125     83553     440857  Closed     COVID-19  COVID-19 Violations   \n",
       "...       ...        ...     ...          ...                  ...   \n",
       "11548  476572     491272  Closed     COVID-19  COVID-19 Violations   \n",
       "11549  476592     491109  Closed     COVID-19  COVID-19 Violations   \n",
       "11550  476613     491592  Closed     COVID-19  COVID-19 Violations   \n",
       "11557  477232     487802  Closed     COVID-19  COVID-19 Violations   \n",
       "11584  477871     491439  Closed     COVID-19  COVID-19 Violations   \n",
       "\n",
       "      Additional Subrequest Type      Date / Time Opened  \\\n",
       "16           COVID-19 Violations  05/07/2020 10:31:04 PM   \n",
       "31           COVID-19 Violations  07/26/2020 02:26:28 AM   \n",
       "67           COVID-19 Violations  07/25/2020 04:25:26 PM   \n",
       "124          COVID-19 Violations  08/08/2020 12:19:06 PM   \n",
       "125          COVID-19 Violations  08/08/2020 04:19:52 PM   \n",
       "...                          ...                     ...   \n",
       "11548        COVID-19 Violations  10/29/2020 05:01:43 PM   \n",
       "11549        COVID-19 Violations  10/29/2020 03:29:07 PM   \n",
       "11550        COVID-19 Violations  10/29/2020 08:43:16 PM   \n",
       "11557        COVID-19 Violations  10/24/2020 07:30:43 PM   \n",
       "11584        COVID-19 Violations  10/29/2020 06:43:32 PM   \n",
       "\n",
       "           Date / Time Closed          Request Origin  State Issue  \\\n",
       "16     05/11/2020 02:57:54 PM  hubNashville Community        False   \n",
       "31     07/30/2020 03:35:55 PM  hubNashville Community        False   \n",
       "67     07/27/2020 04:59:17 PM  hubNashville Community        False   \n",
       "124    08/10/2020 04:22:25 PM  hubNashville Community        False   \n",
       "125    08/10/2020 03:01:55 PM  hubNashville Community        False   \n",
       "...                       ...                     ...          ...   \n",
       "11548  10/30/2020 02:00:14 PM  hubNashville Community        False   \n",
       "11549  10/30/2020 02:00:27 PM  hubNashville Community        False   \n",
       "11550  10/30/2020 01:59:23 PM  hubNashville Community        False   \n",
       "11557  10/26/2020 02:01:07 PM  hubNashville Community        False   \n",
       "11584  10/30/2020 01:59:36 PM  hubNashville Community        False   \n",
       "\n",
       "       Closed When Created                               Address City  \\\n",
       "16                   False                                   NaN  NaN   \n",
       "31                   False                                   NaN  NaN   \n",
       "67                   False  625 Sgt. Paul Huff Parkway Northwest  NaN   \n",
       "124                  False                         7630 Hwy 70 S  NaN   \n",
       "125                  False                7115 Bakers Bridge Ave  NaN   \n",
       "...                    ...                                   ...  ...   \n",
       "11548                False                                   NaN  NaN   \n",
       "11549                False                      3381 Southall Rd  NaN   \n",
       "11550                False                   845 Springfield Hwy  NaN   \n",
       "11557                False                          6000 Hwy 41a  NaN   \n",
       "11584                False                       3078 Maddux Way  NaN   \n",
       "\n",
       "       Council District ZIP   Latitude  Longitude  \\\n",
       "16                  NaN   0        NaN        NaN   \n",
       "31                  NaN   0        NaN        NaN   \n",
       "67                  NaN   0  35.210383 -84.859861   \n",
       "124                 NaN   0  36.080078 -86.949125   \n",
       "125                 NaN   0  35.962645 -86.818637   \n",
       "...                 ...  ..        ...        ...   \n",
       "11548               NaN   0        NaN        NaN   \n",
       "11549               NaN   0  35.896428 -86.978482   \n",
       "11550               NaN   0  36.344605 -86.719257   \n",
       "11557               NaN   0  36.369854 -86.984785   \n",
       "11584               NaN   0  35.970954 -86.835905   \n",
       "\n",
       "                               Mapped Location  \n",
       "16                                         NaN  \n",
       "31                                         NaN  \n",
       "67     (35.21038347906778, -84.85986115231826)  \n",
       "124     (36.08007791157165, -86.9491254932541)  \n",
       "125    (35.96264471152191, -86.81863690674592)  \n",
       "...                                        ...  \n",
       "11548                                      NaN  \n",
       "11549  (35.89642800000001, -86.97848189999999)  \n",
       "11550         (36.3446046, -86.71925739999999)  \n",
       "11557  (36.36985411169506, -86.98478530000001)  \n",
       "11584  (35.97095401152542, -86.83590499999998)  \n",
       "\n",
       "[914 rows x 18 columns]"
      ]
     },
     "execution_count": 24,
     "metadata": {},
     "output_type": "execute_result"
    }
   ],
   "source": [
    "covid_only[covid_only['ZIP']=='0']"
   ]
  },
  {
   "cell_type": "code",
   "execution_count": 27,
   "metadata": {
    "scrolled": true
   },
   "outputs": [
    {
     "data": {
      "text/html": [
       "<div>\n",
       "<style scoped>\n",
       "    .dataframe tbody tr th:only-of-type {\n",
       "        vertical-align: middle;\n",
       "    }\n",
       "\n",
       "    .dataframe tbody tr th {\n",
       "        vertical-align: top;\n",
       "    }\n",
       "\n",
       "    .dataframe thead th {\n",
       "        text-align: right;\n",
       "    }\n",
       "</style>\n",
       "<table border=\"1\" class=\"dataframe\">\n",
       "  <thead>\n",
       "    <tr style=\"text-align: right;\">\n",
       "      <th></th>\n",
       "      <th>index</th>\n",
       "      <th>Request #</th>\n",
       "      <th>Status</th>\n",
       "      <th>Request Type</th>\n",
       "      <th>Subrequest Type</th>\n",
       "      <th>Additional Subrequest Type</th>\n",
       "      <th>Date / Time Opened</th>\n",
       "      <th>Date / Time Closed</th>\n",
       "      <th>Request Origin</th>\n",
       "      <th>State Issue</th>\n",
       "      <th>Closed When Created</th>\n",
       "      <th>Address</th>\n",
       "      <th>City</th>\n",
       "      <th>Council District</th>\n",
       "      <th>ZIP</th>\n",
       "      <th>Latitude</th>\n",
       "      <th>Longitude</th>\n",
       "      <th>Mapped Location</th>\n",
       "    </tr>\n",
       "  </thead>\n",
       "  <tbody>\n",
       "    <tr>\n",
       "      <th>16</th>\n",
       "      <td>23181</td>\n",
       "      <td>362249</td>\n",
       "      <td>Closed</td>\n",
       "      <td>COVID-19</td>\n",
       "      <td>COVID-19 Violations</td>\n",
       "      <td>COVID-19 Violations</td>\n",
       "      <td>05/07/2020 10:31:04 PM</td>\n",
       "      <td>05/11/2020 02:57:54 PM</td>\n",
       "      <td>hubNashville Community</td>\n",
       "      <td>False</td>\n",
       "      <td>False</td>\n",
       "      <td>NaN</td>\n",
       "      <td>NaN</td>\n",
       "      <td>NaN</td>\n",
       "      <td>0</td>\n",
       "      <td>NaN</td>\n",
       "      <td>NaN</td>\n",
       "      <td>NaN</td>\n",
       "    </tr>\n",
       "    <tr>\n",
       "      <th>31</th>\n",
       "      <td>35402</td>\n",
       "      <td>426840</td>\n",
       "      <td>Closed</td>\n",
       "      <td>COVID-19</td>\n",
       "      <td>COVID-19 Violations</td>\n",
       "      <td>COVID-19 Violations</td>\n",
       "      <td>07/26/2020 02:26:28 AM</td>\n",
       "      <td>07/30/2020 03:35:55 PM</td>\n",
       "      <td>hubNashville Community</td>\n",
       "      <td>False</td>\n",
       "      <td>False</td>\n",
       "      <td>NaN</td>\n",
       "      <td>NaN</td>\n",
       "      <td>NaN</td>\n",
       "      <td>0</td>\n",
       "      <td>NaN</td>\n",
       "      <td>NaN</td>\n",
       "      <td>NaN</td>\n",
       "    </tr>\n",
       "    <tr>\n",
       "      <th>39</th>\n",
       "      <td>37075</td>\n",
       "      <td>426843</td>\n",
       "      <td>Closed</td>\n",
       "      <td>COVID-19</td>\n",
       "      <td>COVID-19 Violations</td>\n",
       "      <td>COVID-19 Violations</td>\n",
       "      <td>07/26/2020 02:33:28 AM</td>\n",
       "      <td>07/27/2020 08:15:16 PM</td>\n",
       "      <td>hubNashville Community</td>\n",
       "      <td>False</td>\n",
       "      <td>False</td>\n",
       "      <td>NaN</td>\n",
       "      <td>NASHVILLE</td>\n",
       "      <td>19.0</td>\n",
       "      <td>37203</td>\n",
       "      <td>36.156583</td>\n",
       "      <td>-86.787453</td>\n",
       "      <td>(36.15658331160417, -86.78745279999998)</td>\n",
       "    </tr>\n",
       "    <tr>\n",
       "      <th>111</th>\n",
       "      <td>81601</td>\n",
       "      <td>440879</td>\n",
       "      <td>Closed</td>\n",
       "      <td>COVID-19</td>\n",
       "      <td>COVID-19 Violations</td>\n",
       "      <td>COVID-19 Violations</td>\n",
       "      <td>08/08/2020 05:44:18 PM</td>\n",
       "      <td>08/10/2020 03:42:04 PM</td>\n",
       "      <td>hubNashville Community</td>\n",
       "      <td>False</td>\n",
       "      <td>False</td>\n",
       "      <td>NaN</td>\n",
       "      <td>NASHVILLE</td>\n",
       "      <td>26.0</td>\n",
       "      <td>37211</td>\n",
       "      <td>36.088985</td>\n",
       "      <td>-86.741833</td>\n",
       "      <td>(36.08898508095092, -86.74183345642209)</td>\n",
       "    </tr>\n",
       "    <tr>\n",
       "      <th>159</th>\n",
       "      <td>91716</td>\n",
       "      <td>427043</td>\n",
       "      <td>Closed</td>\n",
       "      <td>COVID-19</td>\n",
       "      <td>COVID-19 Violations</td>\n",
       "      <td>COVID-19 Violations</td>\n",
       "      <td>07/26/2020 05:48:15 PM</td>\n",
       "      <td>07/27/2020 05:01:15 PM</td>\n",
       "      <td>hubNashville Community</td>\n",
       "      <td>False</td>\n",
       "      <td>False</td>\n",
       "      <td>NaN</td>\n",
       "      <td>NASHVILLE</td>\n",
       "      <td>19.0</td>\n",
       "      <td>37201</td>\n",
       "      <td>36.161483</td>\n",
       "      <td>-86.775970</td>\n",
       "      <td>(36.161483199590116, -86.77596987010585)</td>\n",
       "    </tr>\n",
       "    <tr>\n",
       "      <th>...</th>\n",
       "      <td>...</td>\n",
       "      <td>...</td>\n",
       "      <td>...</td>\n",
       "      <td>...</td>\n",
       "      <td>...</td>\n",
       "      <td>...</td>\n",
       "      <td>...</td>\n",
       "      <td>...</td>\n",
       "      <td>...</td>\n",
       "      <td>...</td>\n",
       "      <td>...</td>\n",
       "      <td>...</td>\n",
       "      <td>...</td>\n",
       "      <td>...</td>\n",
       "      <td>...</td>\n",
       "      <td>...</td>\n",
       "      <td>...</td>\n",
       "      <td>...</td>\n",
       "    </tr>\n",
       "    <tr>\n",
       "      <th>11219</th>\n",
       "      <td>467467</td>\n",
       "      <td>482914</td>\n",
       "      <td>Closed</td>\n",
       "      <td>COVID-19</td>\n",
       "      <td>COVID-19 Violations</td>\n",
       "      <td>COVID-19 Violations</td>\n",
       "      <td>10/17/2020 11:52:02 PM</td>\n",
       "      <td>10/19/2020 04:02:23 PM</td>\n",
       "      <td>hubNashville Community</td>\n",
       "      <td>False</td>\n",
       "      <td>False</td>\n",
       "      <td>NaN</td>\n",
       "      <td>MADISON</td>\n",
       "      <td>10.0</td>\n",
       "      <td>37115</td>\n",
       "      <td>36.279907</td>\n",
       "      <td>-86.708587</td>\n",
       "      <td>(36.27990691165665, -86.70858740000001)</td>\n",
       "    </tr>\n",
       "    <tr>\n",
       "      <th>11375</th>\n",
       "      <td>471157</td>\n",
       "      <td>479046</td>\n",
       "      <td>Closed</td>\n",
       "      <td>COVID-19</td>\n",
       "      <td>COVID-19 Violations</td>\n",
       "      <td>COVID-19 Violations</td>\n",
       "      <td>10/10/2020 09:23:12 PM</td>\n",
       "      <td>10/12/2020 02:23:18 PM</td>\n",
       "      <td>hubNashville Community</td>\n",
       "      <td>False</td>\n",
       "      <td>False</td>\n",
       "      <td>NaN</td>\n",
       "      <td>HERMITAGE</td>\n",
       "      <td>11.0</td>\n",
       "      <td>37076</td>\n",
       "      <td>36.214730</td>\n",
       "      <td>-86.598598</td>\n",
       "      <td>(36.2147301, -86.5985985)</td>\n",
       "    </tr>\n",
       "    <tr>\n",
       "      <th>11419</th>\n",
       "      <td>472244</td>\n",
       "      <td>483034</td>\n",
       "      <td>Closed</td>\n",
       "      <td>COVID-19</td>\n",
       "      <td>COVID-19 Violations</td>\n",
       "      <td>COVID-19 Violations</td>\n",
       "      <td>10/18/2020 07:16:49 PM</td>\n",
       "      <td>10/19/2020 04:06:26 PM</td>\n",
       "      <td>hubNashville Community</td>\n",
       "      <td>False</td>\n",
       "      <td>False</td>\n",
       "      <td>NaN</td>\n",
       "      <td>NASHVILLE</td>\n",
       "      <td>3.0</td>\n",
       "      <td>37207</td>\n",
       "      <td>36.269265</td>\n",
       "      <td>-86.756126</td>\n",
       "      <td>(36.2692651, -86.7561257)</td>\n",
       "    </tr>\n",
       "    <tr>\n",
       "      <th>11548</th>\n",
       "      <td>476572</td>\n",
       "      <td>491272</td>\n",
       "      <td>Closed</td>\n",
       "      <td>COVID-19</td>\n",
       "      <td>COVID-19 Violations</td>\n",
       "      <td>COVID-19 Violations</td>\n",
       "      <td>10/29/2020 05:01:43 PM</td>\n",
       "      <td>10/30/2020 02:00:14 PM</td>\n",
       "      <td>hubNashville Community</td>\n",
       "      <td>False</td>\n",
       "      <td>False</td>\n",
       "      <td>NaN</td>\n",
       "      <td>NaN</td>\n",
       "      <td>NaN</td>\n",
       "      <td>0</td>\n",
       "      <td>NaN</td>\n",
       "      <td>NaN</td>\n",
       "      <td>NaN</td>\n",
       "    </tr>\n",
       "    <tr>\n",
       "      <th>11564</th>\n",
       "      <td>477319</td>\n",
       "      <td>487808</td>\n",
       "      <td>Closed</td>\n",
       "      <td>COVID-19</td>\n",
       "      <td>COVID-19 Violations</td>\n",
       "      <td>COVID-19 Violations</td>\n",
       "      <td>10/24/2020 07:43:13 PM</td>\n",
       "      <td>10/26/2020 02:33:58 PM</td>\n",
       "      <td>hubNashville Community</td>\n",
       "      <td>False</td>\n",
       "      <td>False</td>\n",
       "      <td>NaN</td>\n",
       "      <td>NASHVILLE</td>\n",
       "      <td>13.0</td>\n",
       "      <td>37214</td>\n",
       "      <td>36.151088</td>\n",
       "      <td>-86.626675</td>\n",
       "      <td>(36.151088410543935, -86.62667489456584)</td>\n",
       "    </tr>\n",
       "  </tbody>\n",
       "</table>\n",
       "<p>374 rows × 18 columns</p>\n",
       "</div>"
      ],
      "text/plain": [
       "        index  Request #  Status Request Type      Subrequest Type  \\\n",
       "16      23181     362249  Closed     COVID-19  COVID-19 Violations   \n",
       "31      35402     426840  Closed     COVID-19  COVID-19 Violations   \n",
       "39      37075     426843  Closed     COVID-19  COVID-19 Violations   \n",
       "111     81601     440879  Closed     COVID-19  COVID-19 Violations   \n",
       "159     91716     427043  Closed     COVID-19  COVID-19 Violations   \n",
       "...       ...        ...     ...          ...                  ...   \n",
       "11219  467467     482914  Closed     COVID-19  COVID-19 Violations   \n",
       "11375  471157     479046  Closed     COVID-19  COVID-19 Violations   \n",
       "11419  472244     483034  Closed     COVID-19  COVID-19 Violations   \n",
       "11548  476572     491272  Closed     COVID-19  COVID-19 Violations   \n",
       "11564  477319     487808  Closed     COVID-19  COVID-19 Violations   \n",
       "\n",
       "      Additional Subrequest Type      Date / Time Opened  \\\n",
       "16           COVID-19 Violations  05/07/2020 10:31:04 PM   \n",
       "31           COVID-19 Violations  07/26/2020 02:26:28 AM   \n",
       "39           COVID-19 Violations  07/26/2020 02:33:28 AM   \n",
       "111          COVID-19 Violations  08/08/2020 05:44:18 PM   \n",
       "159          COVID-19 Violations  07/26/2020 05:48:15 PM   \n",
       "...                          ...                     ...   \n",
       "11219        COVID-19 Violations  10/17/2020 11:52:02 PM   \n",
       "11375        COVID-19 Violations  10/10/2020 09:23:12 PM   \n",
       "11419        COVID-19 Violations  10/18/2020 07:16:49 PM   \n",
       "11548        COVID-19 Violations  10/29/2020 05:01:43 PM   \n",
       "11564        COVID-19 Violations  10/24/2020 07:43:13 PM   \n",
       "\n",
       "           Date / Time Closed          Request Origin  State Issue  \\\n",
       "16     05/11/2020 02:57:54 PM  hubNashville Community        False   \n",
       "31     07/30/2020 03:35:55 PM  hubNashville Community        False   \n",
       "39     07/27/2020 08:15:16 PM  hubNashville Community        False   \n",
       "111    08/10/2020 03:42:04 PM  hubNashville Community        False   \n",
       "159    07/27/2020 05:01:15 PM  hubNashville Community        False   \n",
       "...                       ...                     ...          ...   \n",
       "11219  10/19/2020 04:02:23 PM  hubNashville Community        False   \n",
       "11375  10/12/2020 02:23:18 PM  hubNashville Community        False   \n",
       "11419  10/19/2020 04:06:26 PM  hubNashville Community        False   \n",
       "11548  10/30/2020 02:00:14 PM  hubNashville Community        False   \n",
       "11564  10/26/2020 02:33:58 PM  hubNashville Community        False   \n",
       "\n",
       "       Closed When Created Address       City  Council District    ZIP  \\\n",
       "16                   False     NaN        NaN               NaN      0   \n",
       "31                   False     NaN        NaN               NaN      0   \n",
       "39                   False     NaN  NASHVILLE              19.0  37203   \n",
       "111                  False     NaN  NASHVILLE              26.0  37211   \n",
       "159                  False     NaN  NASHVILLE              19.0  37201   \n",
       "...                    ...     ...        ...               ...    ...   \n",
       "11219                False     NaN    MADISON              10.0  37115   \n",
       "11375                False     NaN  HERMITAGE              11.0  37076   \n",
       "11419                False     NaN  NASHVILLE               3.0  37207   \n",
       "11548                False     NaN        NaN               NaN      0   \n",
       "11564                False     NaN  NASHVILLE              13.0  37214   \n",
       "\n",
       "        Latitude  Longitude                           Mapped Location  \n",
       "16           NaN        NaN                                       NaN  \n",
       "31           NaN        NaN                                       NaN  \n",
       "39     36.156583 -86.787453   (36.15658331160417, -86.78745279999998)  \n",
       "111    36.088985 -86.741833   (36.08898508095092, -86.74183345642209)  \n",
       "159    36.161483 -86.775970  (36.161483199590116, -86.77596987010585)  \n",
       "...          ...        ...                                       ...  \n",
       "11219  36.279907 -86.708587   (36.27990691165665, -86.70858740000001)  \n",
       "11375  36.214730 -86.598598                 (36.2147301, -86.5985985)  \n",
       "11419  36.269265 -86.756126                 (36.2692651, -86.7561257)  \n",
       "11548        NaN        NaN                                       NaN  \n",
       "11564  36.151088 -86.626675  (36.151088410543935, -86.62667489456584)  \n",
       "\n",
       "[374 rows x 18 columns]"
      ]
     },
     "execution_count": 27,
     "metadata": {},
     "output_type": "execute_result"
    }
   ],
   "source": [
    "covid_only[covid_only['Address'].isna()]"
   ]
  },
  {
   "cell_type": "code",
   "execution_count": 33,
   "metadata": {},
   "outputs": [],
   "source": [
    "covid_only[\"Date / Time Closed\"] = covid_only[\"Date / Time Closed\"].astype(\"datetime64\")\n",
    "\n",
    "covid_only[\"Date / Time Opened\"] = covid_only[\"Date / Time Opened\"].astype(\"datetime64\")"
   ]
  },
  {
   "cell_type": "code",
   "execution_count": 35,
   "metadata": {},
   "outputs": [
    {
     "name": "stdout",
     "output_type": "stream",
     "text": [
      "<class 'pandas.core.frame.DataFrame'>\n",
      "RangeIndex: 11632 entries, 0 to 11631\n",
      "Data columns (total 18 columns):\n",
      " #   Column                      Non-Null Count  Dtype         \n",
      "---  ------                      --------------  -----         \n",
      " 0   index                       11632 non-null  int64         \n",
      " 1   Request #                   11632 non-null  int64         \n",
      " 2   Status                      11632 non-null  object        \n",
      " 3   Request Type                11632 non-null  object        \n",
      " 4   Subrequest Type             11632 non-null  object        \n",
      " 5   Additional Subrequest Type  11623 non-null  object        \n",
      " 6   Date / Time Opened          11632 non-null  datetime64[ns]\n",
      " 7   Date / Time Closed          11611 non-null  datetime64[ns]\n",
      " 8   Request Origin              11632 non-null  object        \n",
      " 9   State Issue                 11632 non-null  bool          \n",
      " 10  Closed When Created         11632 non-null  bool          \n",
      " 11  Address                     11258 non-null  object        \n",
      " 12  City                        10653 non-null  object        \n",
      " 13  Council District            10686 non-null  float64       \n",
      " 14  ZIP                         11632 non-null  object        \n",
      " 15  Latitude                    11354 non-null  float64       \n",
      " 16  Longitude                   11354 non-null  float64       \n",
      " 17  Mapped Location             11354 non-null  object        \n",
      "dtypes: bool(2), datetime64[ns](2), float64(3), int64(2), object(9)\n",
      "memory usage: 1.4+ MB\n"
     ]
    }
   ],
   "source": [
    "covid_only.info()"
   ]
  },
  {
   "cell_type": "code",
   "execution_count": 42,
   "metadata": {},
   "outputs": [
    {
     "data": {
      "text/plain": [
       "0        02:38:00\n",
       "1        11:48:40\n",
       "2        00:35:20\n",
       "3        18:50:31\n",
       "4        18:03:09\n",
       "           ...   \n",
       "11627    00:17:13\n",
       "11628    20:50:02\n",
       "11629    15:32:36\n",
       "11630    21:47:56\n",
       "11631    03:50:56\n",
       "Name: Date / Time Opened, Length: 11632, dtype: object"
      ]
     },
     "execution_count": 42,
     "metadata": {},
     "output_type": "execute_result"
    }
   ],
   "source": [
    "covid_only['Date / Time Opened'].dt.time"
   ]
  },
  {
   "cell_type": "code",
   "execution_count": 46,
   "metadata": {},
   "outputs": [],
   "source": [
    "covid_only['Month'] = covid_only['Date / Time Opened'].dt.month\n",
    "covid_only['Day']=covid_only['Date / Time Opened'].dt.day"
   ]
  },
  {
   "cell_type": "code",
   "execution_count": 53,
   "metadata": {},
   "outputs": [],
   "source": [
    "covid_only['Month/Day'] = covid_only['Month'].apply(str) + '/' + covid_only['Day'].apply(str)"
   ]
  },
  {
   "cell_type": "code",
   "execution_count": 59,
   "metadata": {
    "scrolled": false
   },
   "outputs": [
    {
     "data": {
      "text/plain": [
       "<matplotlib.axes._subplots.AxesSubplot at 0x1a4274cd400>"
      ]
     },
     "execution_count": 59,
     "metadata": {},
     "output_type": "execute_result"
    },
    {
     "data": {
      "image/png": "[encoded data removed]",
      "text/plain": [
       "<Figure size 432x288 with 1 Axes>"
      ]
     },
     "metadata": {
      "needs_background": "light"
     },
     "output_type": "display_data"
    }
   ],
   "source": [
    "covid_only['Month'].value_counts().plot(kind='bar')"
   ]
  },
  {
   "cell_type": "code",
   "execution_count": 69,
   "metadata": {},
   "outputs": [
    {
     "data": {
      "text/plain": [
       "<matplotlib.axes._subplots.AxesSubplot at 0x1a431e50e80>"
      ]
     },
     "execution_count": 69,
     "metadata": {},
     "output_type": "execute_result"
    },
    {
     "data": {
      "image/png": "[encoded data removed]",
      "text/plain": [
       "<Figure size 432x288 with 1 Axes>"
      ]
     },
     "metadata": {
      "needs_background": "light"
     },
     "output_type": "display_data"
    }
   ],
   "source": [
    "covid_only['Date / Time Opened'].dt.weekday.value_counts().plot(kind='bar') \n",
    "#monday is zero, sunday is 6, can rename for clarity's sake later"
   ]
  },
  {
   "cell_type": "code",
   "execution_count": 90,
   "metadata": {},
   "outputs": [
    {
     "data": {
      "image/png": "[encoded data removed]",
      "text/plain": [
       "<Figure size 432x288 with 1 Axes>"
      ]
     },
     "metadata": {
      "needs_background": "light"
     },
     "output_type": "display_data"
    }
   ],
   "source": [
    "covid_only[covid_only['Month']==7]['Date / Time Opened'].dt.weekday.value_counts().plot(kind='bar'); \n",
    "#MAEVA to look at making a widget allowing you to select a month\n",
    "#this shows which days had the most reported violations by day(0 is Monday, 6 is Sunday)"
   ]
  },
  {
   "cell_type": "code",
   "execution_count": 89,
   "metadata": {},
   "outputs": [],
   "source": [
    "#MAEVA time series graph showing violations reported as time goes on from 0:00 to 23:59 and/or doing date+time timeline graph"
   ]
  },
  {
   "cell_type": "code",
   "execution_count": null,
   "metadata": {},
   "outputs": [],
   "source": []
  }
 ],
 "metadata": {
  "kernelspec": {
   "display_name": "Python 3",
   "language": "python",
   "name": "python3"
  },
  "language_info": {
   "codemirror_mode": {
    "name": "ipython",
    "version": 3
   },
   "file_extension": ".py",
   "mimetype": "text/x-python",
   "name": "python",
   "nbconvert_exporter": "python",
   "pygments_lexer": "ipython3",
   "version": "3.8.3"
  }
 },
 "nbformat": 4,
 "nbformat_minor": 4
}
