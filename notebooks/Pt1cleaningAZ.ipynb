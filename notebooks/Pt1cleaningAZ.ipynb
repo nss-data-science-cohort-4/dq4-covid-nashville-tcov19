{
 "cells": [
  {
   "cell_type": "code",
   "execution_count": 1,
   "metadata": {},
   "outputs": [],
   "source": [
    "import pandas as pd\n",
    "import requests\n",
    "from io import StringIO"
   ]
  },
  {
   "cell_type": "code",
   "execution_count": 4,
   "metadata": {},
   "outputs": [
    {
     "name": "stderr",
     "output_type": "stream",
     "text": [
      "C:\\Users\\zylst\\anaconda3\\lib\\site-packages\\IPython\\core\\interactiveshell.py:3071: DtypeWarning: Columns (17) have mixed types.Specify dtype option on import or set low_memory=False.\n",
      "  has_raised = await self.run_ast_nodes(code_ast.body, cell_name,\n"
     ]
    }
   ],
   "source": [
    "violations = pd.read_csv('../data/hubNashville__311__Service_Requests.csv')"
   ]
  },
  {
   "cell_type": "markdown",
   "metadata": {},
   "source": [
    "#Set API url\n",
    "url = 'https://data.nashville.gov/resource/7qhx-rexh.csv'\n",
    "\n",
    "#create request object\n",
    "r = requests.get(url)\n",
    "\n",
    "#convert to csv\n",
    "covid_violations = pd.read_csv(StringIO(r.text))\n",
    "\n",
    "covid_violations.info()"
   ]
  },
  {
   "cell_type": "code",
   "execution_count": 5,
   "metadata": {},
   "outputs": [
    {
     "name": "stdout",
     "output_type": "stream",
     "text": [
      "<class 'pandas.core.frame.DataFrame'>\n",
      "RangeIndex: 479306 entries, 0 to 479305\n",
      "Data columns (total 21 columns):\n",
      " #   Column                      Non-Null Count   Dtype  \n",
      "---  ------                      --------------   -----  \n",
      " 0   Request #                   479306 non-null  int64  \n",
      " 1   Status                      479306 non-null  object \n",
      " 2   Request Type                478975 non-null  object \n",
      " 3   Subrequest Type             475816 non-null  object \n",
      " 4   Additional Subrequest Type  475665 non-null  object \n",
      " 5   Date / Time Opened          479306 non-null  object \n",
      " 6   Date / Time Closed          467913 non-null  object \n",
      " 7   Request Origin              479306 non-null  object \n",
      " 8   System of Origin ID         29204 non-null   object \n",
      " 9   Contact Type                27446 non-null   object \n",
      " 10  Preferred Language          0 non-null       float64\n",
      " 11  State Issue                 479306 non-null  bool   \n",
      " 12  Parent Request              5122 non-null    float64\n",
      " 13  Closed When Created         479306 non-null  bool   \n",
      " 14  Address                     372094 non-null  object \n",
      " 15  City                        366461 non-null  object \n",
      " 16  Council District            366297 non-null  float64\n",
      " 17  ZIP                         366319 non-null  object \n",
      " 18  Latitude                    371347 non-null  float64\n",
      " 19  Longitude                   371347 non-null  float64\n",
      " 20  Mapped Location             371347 non-null  object \n",
      "dtypes: bool(2), float64(5), int64(1), object(13)\n",
      "memory usage: 70.4+ MB\n"
     ]
    }
   ],
   "source": [
    "violations.info()"
   ]
  },
  {
   "cell_type": "code",
   "execution_count": 6,
   "metadata": {},
   "outputs": [
    {
     "data": {
      "text/plain": [
       "array(['Trash, Recycling & Litter', 'Property Violations',\n",
       "       'Streets, Roads & Sidewalks', 'Other', 'Transit',\n",
       "       'Resolved by hubNashville on First Call',\n",
       "       'Electric & Water General', 'Public Safety', 'Permits',\n",
       "       'Police Chief Search', 'Parks', 'Planning & Zoning',\n",
       "       'Social Services & Housing', 'COVID-19', 'Hands On Volunteers',\n",
       "       'Storm Relief', 'Public Records Request', 'Quick Requests',\n",
       "       'Workforce & Jobs', 'Education & Libraries',\n",
       "       'Admin Support Request', nan, 'WIRES',\n",
       "       'Submit Budget Ideas to Mayor Briley',\n",
       "       'Consumer Protection Request', 'BRUSH'], dtype=object)"
      ]
     },
     "execution_count": 6,
     "metadata": {},
     "output_type": "execute_result"
    }
   ],
   "source": [
    "violations['Request Type'].unique()"
   ]
  },
  {
   "cell_type": "code",
   "execution_count": 7,
   "metadata": {
    "scrolled": true
   },
   "outputs": [
    {
     "data": {
      "text/plain": [
       "array(['COVID-19 Violations', 'COVID-19 Questions',\n",
       "       'COVID-19 Guidance for Reopening Businesses',\n",
       "       'COVID-19 - Submit Input about The Plan to Reopen Nashville', nan],\n",
       "      dtype=object)"
      ]
     },
     "execution_count": 7,
     "metadata": {},
     "output_type": "execute_result"
    }
   ],
   "source": [
    "covid_only = violations[violations['Request Type']== 'COVID-19']\n",
    "covid_only['Subrequest Type'].unique()"
   ]
  },
  {
   "cell_type": "code",
   "execution_count": 8,
   "metadata": {},
   "outputs": [],
   "source": [
    "covid_only = covid_only[covid_only['Subrequest Type']== 'COVID-19 Violations']"
   ]
  },
  {
   "cell_type": "code",
   "execution_count": 9,
   "metadata": {},
   "outputs": [
    {
     "data": {
      "text/plain": [
       "210 Anne Dallas Dudley Blvd    287\n",
       "21B Fern Ave                   117\n",
       "333 Commerce St                 51\n",
       "5106 Old Hickory Blvd           51\n",
       "221 Broadway                    47\n",
       "                              ... \n",
       "3804 Bedford Ave                 1\n",
       "611 James Ave                    1\n",
       "307 Broadway                     1\n",
       "7061 US-70S                      1\n",
       "318 Fesslers Ln                  1\n",
       "Name: Address, Length: 4829, dtype: int64"
      ]
     },
     "execution_count": 9,
     "metadata": {},
     "output_type": "execute_result"
    }
   ],
   "source": [
    "covid_only['Address'].value_counts()"
   ]
  },
  {
   "cell_type": "code",
   "execution_count": 10,
   "metadata": {
    "scrolled": false
   },
   "outputs": [
    {
     "name": "stdout",
     "output_type": "stream",
     "text": [
      "<class 'pandas.core.frame.DataFrame'>\n",
      "Int64Index: 11632 entries, 1547 to 479249\n",
      "Data columns (total 21 columns):\n",
      " #   Column                      Non-Null Count  Dtype  \n",
      "---  ------                      --------------  -----  \n",
      " 0   Request #                   11632 non-null  int64  \n",
      " 1   Status                      11632 non-null  object \n",
      " 2   Request Type                11632 non-null  object \n",
      " 3   Subrequest Type             11632 non-null  object \n",
      " 4   Additional Subrequest Type  11623 non-null  object \n",
      " 5   Date / Time Opened          11632 non-null  object \n",
      " 6   Date / Time Closed          11611 non-null  object \n",
      " 7   Request Origin              11632 non-null  object \n",
      " 8   System of Origin ID         0 non-null      object \n",
      " 9   Contact Type                46 non-null     object \n",
      " 10  Preferred Language          0 non-null      float64\n",
      " 11  State Issue                 11632 non-null  bool   \n",
      " 12  Parent Request              1 non-null      float64\n",
      " 13  Closed When Created         11632 non-null  bool   \n",
      " 14  Address                     11258 non-null  object \n",
      " 15  City                        10653 non-null  object \n",
      " 16  Council District            10686 non-null  float64\n",
      " 17  ZIP                         10718 non-null  object \n",
      " 18  Latitude                    11354 non-null  float64\n",
      " 19  Longitude                   11354 non-null  float64\n",
      " 20  Mapped Location             11354 non-null  object \n",
      "dtypes: bool(2), float64(5), int64(1), object(13)\n",
      "memory usage: 1.8+ MB\n"
     ]
    }
   ],
   "source": [
    "covid_only.info()"
   ]
  },
  {
   "cell_type": "code",
   "execution_count": 11,
   "metadata": {
    "scrolled": true
   },
   "outputs": [
    {
     "data": {
      "text/plain": [
       "210 Anne Dallas Dudley Blvd    287\n",
       "21B Fern Ave                   117\n",
       "333 Commerce St                 51\n",
       "5106 Old Hickory Blvd           51\n",
       "221 Broadway                    47\n",
       "                              ... \n",
       "3804 Bedford Ave                 1\n",
       "611 James Ave                    1\n",
       "307 Broadway                     1\n",
       "7061 US-70S                      1\n",
       "318 Fesslers Ln                  1\n",
       "Name: Address, Length: 4829, dtype: int64"
      ]
     },
     "execution_count": 11,
     "metadata": {},
     "output_type": "execute_result"
    }
   ],
   "source": [
    "covid_only['Address'].value_counts()"
   ]
  },
  {
   "cell_type": "code",
   "execution_count": 12,
   "metadata": {},
   "outputs": [],
   "source": [
    "covid_only = covid_only.drop(columns=['System of Origin ID','Contact Type','Preferred Language','Parent Request']).reset_index()"
   ]
  },
  {
   "cell_type": "code",
   "execution_count": 13,
   "metadata": {},
   "outputs": [
    {
     "data": {
      "text/plain": [
       "(11632, 18)"
      ]
     },
     "execution_count": 13,
     "metadata": {},
     "output_type": "execute_result"
    }
   ],
   "source": [
    "covid_only.shape"
   ]
  },
  {
   "cell_type": "code",
   "execution_count": 14,
   "metadata": {},
   "outputs": [
    {
     "data": {
      "text/plain": [
       "NASHVILLE         8627\n",
       "MADISON            582\n",
       "ANTIOCH            470\n",
       "HERMITAGE          431\n",
       "GOODLETTSVILLE     207\n",
       "OLD HICKORY        200\n",
       "BRENTWOOD           50\n",
       "JOELTON             43\n",
       "WHITES CREEK        27\n",
       "LAVERGNE             9\n",
       "NOLENSVILLE          5\n",
       "Nashville            1\n",
       "LA VERGNE            1\n",
       "Name: City, dtype: int64"
      ]
     },
     "execution_count": 14,
     "metadata": {},
     "output_type": "execute_result"
    }
   ],
   "source": [
    "covid_only['City'].value_counts()"
   ]
  },
  {
   "cell_type": "code",
   "execution_count": 15,
   "metadata": {},
   "outputs": [
    {
     "data": {
      "text/html": [
       "<div>\n",
       "<style scoped>\n",
       "    .dataframe tbody tr th:only-of-type {\n",
       "        vertical-align: middle;\n",
       "    }\n",
       "\n",
       "    .dataframe tbody tr th {\n",
       "        vertical-align: top;\n",
       "    }\n",
       "\n",
       "    .dataframe thead th {\n",
       "        text-align: right;\n",
       "    }\n",
       "</style>\n",
       "<table border=\"1\" class=\"dataframe\">\n",
       "  <thead>\n",
       "    <tr style=\"text-align: right;\">\n",
       "      <th></th>\n",
       "      <th>index</th>\n",
       "      <th>Request #</th>\n",
       "      <th>Status</th>\n",
       "      <th>Request Type</th>\n",
       "      <th>Subrequest Type</th>\n",
       "      <th>Additional Subrequest Type</th>\n",
       "      <th>Date / Time Opened</th>\n",
       "      <th>Date / Time Closed</th>\n",
       "      <th>Request Origin</th>\n",
       "      <th>State Issue</th>\n",
       "      <th>Closed When Created</th>\n",
       "      <th>Address</th>\n",
       "      <th>City</th>\n",
       "      <th>Council District</th>\n",
       "      <th>ZIP</th>\n",
       "      <th>Latitude</th>\n",
       "      <th>Longitude</th>\n",
       "      <th>Mapped Location</th>\n",
       "    </tr>\n",
       "  </thead>\n",
       "  <tbody>\n",
       "    <tr>\n",
       "      <th>13</th>\n",
       "      <td>22299</td>\n",
       "      <td>361889</td>\n",
       "      <td>Closed</td>\n",
       "      <td>COVID-19</td>\n",
       "      <td>COVID-19 Violations</td>\n",
       "      <td>COVID-19 Violations</td>\n",
       "      <td>05/07/2020 06:57:32 PM</td>\n",
       "      <td>05/08/2020 05:08:50 PM</td>\n",
       "      <td>Phone</td>\n",
       "      <td>False</td>\n",
       "      <td>False</td>\n",
       "      <td>1297 Antioch Pike</td>\n",
       "      <td>Nashville</td>\n",
       "      <td>NaN</td>\n",
       "      <td>37211</td>\n",
       "      <td>NaN</td>\n",
       "      <td>NaN</td>\n",
       "      <td>NaN</td>\n",
       "    </tr>\n",
       "  </tbody>\n",
       "</table>\n",
       "</div>"
      ],
      "text/plain": [
       "    index  Request #  Status Request Type      Subrequest Type  \\\n",
       "13  22299     361889  Closed     COVID-19  COVID-19 Violations   \n",
       "\n",
       "   Additional Subrequest Type      Date / Time Opened      Date / Time Closed  \\\n",
       "13        COVID-19 Violations  05/07/2020 06:57:32 PM  05/08/2020 05:08:50 PM   \n",
       "\n",
       "   Request Origin  State Issue  Closed When Created            Address  \\\n",
       "13          Phone        False                False  1297 Antioch Pike   \n",
       "\n",
       "         City  Council District    ZIP  Latitude  Longitude Mapped Location  \n",
       "13  Nashville               NaN  37211       NaN        NaN             NaN  "
      ]
     },
     "execution_count": 15,
     "metadata": {},
     "output_type": "execute_result"
    }
   ],
   "source": [
    "covid_only[covid_only['City'] == 'Nashville']"
   ]
  },
  {
   "cell_type": "code",
   "execution_count": 16,
   "metadata": {},
   "outputs": [
    {
     "name": "stdout",
     "output_type": "stream",
     "text": [
      "<class 'pandas.core.frame.DataFrame'>\n",
      "RangeIndex: 11632 entries, 0 to 11631\n",
      "Data columns (total 18 columns):\n",
      " #   Column                      Non-Null Count  Dtype  \n",
      "---  ------                      --------------  -----  \n",
      " 0   index                       11632 non-null  int64  \n",
      " 1   Request #                   11632 non-null  int64  \n",
      " 2   Status                      11632 non-null  object \n",
      " 3   Request Type                11632 non-null  object \n",
      " 4   Subrequest Type             11632 non-null  object \n",
      " 5   Additional Subrequest Type  11623 non-null  object \n",
      " 6   Date / Time Opened          11632 non-null  object \n",
      " 7   Date / Time Closed          11611 non-null  object \n",
      " 8   Request Origin              11632 non-null  object \n",
      " 9   State Issue                 11632 non-null  bool   \n",
      " 10  Closed When Created         11632 non-null  bool   \n",
      " 11  Address                     11258 non-null  object \n",
      " 12  City                        10653 non-null  object \n",
      " 13  Council District            10686 non-null  float64\n",
      " 14  ZIP                         10718 non-null  object \n",
      " 15  Latitude                    11354 non-null  float64\n",
      " 16  Longitude                   11354 non-null  float64\n",
      " 17  Mapped Location             11354 non-null  object \n",
      "dtypes: bool(2), float64(3), int64(2), object(11)\n",
      "memory usage: 1.4+ MB\n"
     ]
    }
   ],
   "source": [
    "covid_only.info()"
   ]
  },
  {
   "cell_type": "code",
   "execution_count": 17,
   "metadata": {},
   "outputs": [],
   "source": [
    "covid_only.iloc[13,12] = covid_only.iloc[13,12].upper()"
   ]
  },
  {
   "cell_type": "code",
   "execution_count": 18,
   "metadata": {},
   "outputs": [
    {
     "data": {
      "text/plain": [
       "NASHVILLE         8628\n",
       "MADISON            582\n",
       "ANTIOCH            470\n",
       "HERMITAGE          431\n",
       "GOODLETTSVILLE     207\n",
       "OLD HICKORY        200\n",
       "BRENTWOOD           50\n",
       "JOELTON             43\n",
       "WHITES CREEK        27\n",
       "LAVERGNE             9\n",
       "NOLENSVILLE          5\n",
       "LA VERGNE            1\n",
       "Name: City, dtype: int64"
      ]
     },
     "execution_count": 18,
     "metadata": {},
     "output_type": "execute_result"
    }
   ],
   "source": [
    "covid_only['City'].value_counts()"
   ]
  },
  {
   "cell_type": "code",
   "execution_count": 19,
   "metadata": {},
   "outputs": [
    {
     "data": {
      "text/html": [
       "<div>\n",
       "<style scoped>\n",
       "    .dataframe tbody tr th:only-of-type {\n",
       "        vertical-align: middle;\n",
       "    }\n",
       "\n",
       "    .dataframe tbody tr th {\n",
       "        vertical-align: top;\n",
       "    }\n",
       "\n",
       "    .dataframe thead th {\n",
       "        text-align: right;\n",
       "    }\n",
       "</style>\n",
       "<table border=\"1\" class=\"dataframe\">\n",
       "  <thead>\n",
       "    <tr style=\"text-align: right;\">\n",
       "      <th></th>\n",
       "      <th>index</th>\n",
       "      <th>Request #</th>\n",
       "      <th>Status</th>\n",
       "      <th>Request Type</th>\n",
       "      <th>Subrequest Type</th>\n",
       "      <th>Additional Subrequest Type</th>\n",
       "      <th>Date / Time Opened</th>\n",
       "      <th>Date / Time Closed</th>\n",
       "      <th>Request Origin</th>\n",
       "      <th>State Issue</th>\n",
       "      <th>Closed When Created</th>\n",
       "      <th>Address</th>\n",
       "      <th>City</th>\n",
       "      <th>Council District</th>\n",
       "      <th>ZIP</th>\n",
       "      <th>Latitude</th>\n",
       "      <th>Longitude</th>\n",
       "      <th>Mapped Location</th>\n",
       "    </tr>\n",
       "  </thead>\n",
       "  <tbody>\n",
       "    <tr>\n",
       "      <th>9518</th>\n",
       "      <td>401452</td>\n",
       "      <td>442297</td>\n",
       "      <td>Closed</td>\n",
       "      <td>COVID-19</td>\n",
       "      <td>COVID-19 Violations</td>\n",
       "      <td>COVID-19 Violations</td>\n",
       "      <td>08/11/2020 02:50:02 PM</td>\n",
       "      <td>08/12/2020 03:47:37 PM</td>\n",
       "      <td>Phone</td>\n",
       "      <td>False</td>\n",
       "      <td>False</td>\n",
       "      <td>Firestone Pkwy &amp; Old Hickory Blvd</td>\n",
       "      <td>LA VERGNE</td>\n",
       "      <td>33.0</td>\n",
       "      <td>37086</td>\n",
       "      <td>36.01689</td>\n",
       "      <td>-86.61985</td>\n",
       "      <td>(36.01689, -86.61985)</td>\n",
       "    </tr>\n",
       "  </tbody>\n",
       "</table>\n",
       "</div>"
      ],
      "text/plain": [
       "       index  Request #  Status Request Type      Subrequest Type  \\\n",
       "9518  401452     442297  Closed     COVID-19  COVID-19 Violations   \n",
       "\n",
       "     Additional Subrequest Type      Date / Time Opened  \\\n",
       "9518        COVID-19 Violations  08/11/2020 02:50:02 PM   \n",
       "\n",
       "          Date / Time Closed Request Origin  State Issue  Closed When Created  \\\n",
       "9518  08/12/2020 03:47:37 PM          Phone        False                False   \n",
       "\n",
       "                                Address       City  Council District    ZIP  \\\n",
       "9518  Firestone Pkwy & Old Hickory Blvd  LA VERGNE              33.0  37086   \n",
       "\n",
       "      Latitude  Longitude        Mapped Location  \n",
       "9518  36.01689  -86.61985  (36.01689, -86.61985)  "
      ]
     },
     "execution_count": 19,
     "metadata": {},
     "output_type": "execute_result"
    }
   ],
   "source": [
    "covid_only[covid_only['City']=='LA VERGNE']"
   ]
  },
  {
   "cell_type": "code",
   "execution_count": 20,
   "metadata": {},
   "outputs": [],
   "source": [
    "covid_only.iloc[9518,12] = 'LAVERGNE'"
   ]
  },
  {
   "cell_type": "code",
   "execution_count": 21,
   "metadata": {},
   "outputs": [
    {
     "data": {
      "text/plain": [
       "NASHVILLE         8628\n",
       "MADISON            582\n",
       "ANTIOCH            470\n",
       "HERMITAGE          431\n",
       "GOODLETTSVILLE     207\n",
       "OLD HICKORY        200\n",
       "BRENTWOOD           50\n",
       "JOELTON             43\n",
       "WHITES CREEK        27\n",
       "LAVERGNE            10\n",
       "NOLENSVILLE          5\n",
       "Name: City, dtype: int64"
      ]
     },
     "execution_count": 21,
     "metadata": {},
     "output_type": "execute_result"
    }
   ],
   "source": [
    "covid_only['City'].value_counts()"
   ]
  },
  {
   "cell_type": "code",
   "execution_count": null,
   "metadata": {},
   "outputs": [],
   "source": []
  },
  {
   "cell_type": "code",
   "execution_count": null,
   "metadata": {},
   "outputs": [],
   "source": []
  },
  {
   "cell_type": "code",
   "execution_count": null,
   "metadata": {},
   "outputs": [],
   "source": []
  },
  {
   "cell_type": "code",
   "execution_count": null,
   "metadata": {},
   "outputs": [],
   "source": []
  }
 ],
 "metadata": {
  "kernelspec": {
   "display_name": "Python 3",
   "language": "python",
   "name": "python3"
  },
  "language_info": {
   "codemirror_mode": {
    "name": "ipython",
    "version": 3
   },
   "file_extension": ".py",
   "mimetype": "text/x-python",
   "name": "python",
   "nbconvert_exporter": "python",
   "pygments_lexer": "ipython3",
   "version": "3.8.3"
  }
 },
 "nbformat": 4,
 "nbformat_minor": 4
}
